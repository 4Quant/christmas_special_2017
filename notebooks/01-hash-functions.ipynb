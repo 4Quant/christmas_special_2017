{
 "cells": [
  {
   "cell_type": "markdown",
   "metadata": {},
   "source": [
    "# Hash Functions\n",
    "\n",
    "Hash functions compute a fingerprint for the data you feed into them. This fingerprint uniquely identifies the data you fed into the hash function.\n",
    "\n",
    "<img src=\"hashfunction.png\" style=\"max-width: 60%\" />\n",
    "\n",
    "Here we start out with hash functions where we use the [SHA256](https://en.wikipedia.org/wiki/SHA-2) algorithm built into python. We wrap the function up a bit so we can use it with both strings and numbers."
   ]
  },
  {
   "cell_type": "code",
   "execution_count": 2,
   "metadata": {
    "collapsed": true
   },
   "outputs": [],
   "source": [
    "from hashlib import sha256\n",
    "\n",
    "def simple_hash_func(value):\n",
    "    return sha256('{}'.format(value).encode()).hexdigest()"
   ]
  },
  {
   "cell_type": "markdown",
   "metadata": {},
   "source": [
    "Using the hash function, here we can use the hash function to encode a _signature_ or fingerprint of the value. The primary purpose of this _signature_ is that it encapsulates the value without actually containing it. Individual hashes are very quick to compute which is important for making a blockchain easy to verify."
   ]
  },
  {
   "cell_type": "code",
   "execution_count": 4,
   "metadata": {},
   "outputs": [
    {
     "name": "stdout",
     "output_type": "stream",
     "text": [
      "12345 \t 5994471abb01112afcc18159f6cc74b4f511b99806da59b3caf5a9c173cacfc5\n",
      "12346 \t 34d128f5b3dede622e107438fbefabdf0519ebab21ac7b6f2075f974d09ce524\n",
      "Hashes do not match!\n"
     ]
    }
   ],
   "source": [
    "my_favorite_number = 12345\n",
    "\n",
    "print(my_favorite_number, '\\t', simple_hash_func(my_favorite_number))\n",
    "\n",
    "# we can now try adding one to this number and we see that the hash changes\n",
    "print(my_favorite_number + 1, '\\t', simple_hash_func(my_favorite_number + 1))\n",
    "\n",
    "if simple_hash_func(my_favorite_number) != simple_hash_func(my_favorite_number + 1):\n",
    "    print('Hashes do not match!')"
   ]
  }
 ],
 "metadata": {
  "kernelspec": {
   "display_name": "Python 3",
   "language": "python",
   "name": "python3"
  },
  "language_info": {
   "codemirror_mode": {
    "name": "ipython",
    "version": 3
   },
   "file_extension": ".py",
   "mimetype": "text/x-python",
   "name": "python",
   "nbconvert_exporter": "python",
   "pygments_lexer": "ipython3",
   "version": "3.6.2"
  }
 },
 "nbformat": 4,
 "nbformat_minor": 2
}
