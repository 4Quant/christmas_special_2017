{
 "cells": [
  {
   "cell_type": "markdown",
   "metadata": {},
   "source": [
    "# A signed list of transactions\n",
    "\n",
    "Following the slides we can do the same task with a list of transactions\n",
    "\n",
    "```\n",
    "Tim pays Joel $3\n",
    "Joel pays Kevin $1.5\n",
    "Tim pays Joel $3\n",
    "```\n"
   ]
  },
  {
   "cell_type": "code",
   "execution_count": 1,
   "metadata": {},
   "outputs": [],
   "source": [
    "from hashlib import sha256\n",
    "import json\n",
    "\n",
    "def simple_hash_func(value):\n",
    "    return sha256('{}'.format(value).encode()).hexdigest()[-8:]"
   ]
  },
  {
   "cell_type": "code",
   "execution_count": 2,
   "metadata": {},
   "outputs": [],
   "source": [
    "transactions = [\n",
    "    {'date': '2017-12-12', 'content': 'Tim pays Joel $3', 'nonce': 0},\n",
    "    {'date': '2017-12-13', 'content': 'Joel pays Kevin $1.5', 'nonce': 0},\n",
    "    {'date': '2017-12-13', 'content': 'Tim pays Joel $3', 'nonce': 0},\n",
    "]"
   ]
  },
  {
   "cell_type": "markdown",
   "metadata": {},
   "source": [
    "We will link this set of transaction to each other by computing a hash for each one that includes the has of the previous transaction. This way the third transaction is linked to the second, which is linked to the first."
   ]
  },
  {
   "cell_type": "code",
   "execution_count": 3,
   "metadata": {},
   "outputs": [
    {
     "name": "stdout",
     "output_type": "stream",
     "text": [
      "2017-12-12\tTim pays Joel $3\t0\t\n",
      "2017-12-13\tJoel pays Kevin $1.5\t0\t1cc65c2f\n",
      "2017-12-13\tTim pays Joel $3\t0\t43687595\n"
     ]
    }
   ],
   "source": [
    "def sign_transactions(transactions):\n",
    "    signed = []\n",
    "    last_signature = ''\n",
    "\n",
    "    for c_transaction in transactions:\n",
    "        new_transaction = c_transaction.copy()\n",
    "        new_transaction['last_signature'] = last_signature\n",
    "        last_signature = simple_hash_func(json.dumps(new_transaction, sort_keys=True).encode())\n",
    "        signed.append(new_transaction)\n",
    "        \n",
    "    return signed\n",
    "\n",
    "signed_transactions = sign_transactions(transactions)\n",
    "\n",
    "for c_transaction in signed_transactions:\n",
    "    print('{date}\\t{content}\\t{nonce}\\t{last_signature}'.format(**c_transaction))"
   ]
  },
  {
   "cell_type": "markdown",
   "metadata": {},
   "source": [
    "We can now try and manipulate an earlier transaction in our chain and see what happens.\n",
    "\n",
    "We make a fairly simple modification, swapping a `5` and a `.` in the second transaction. As a result Kevin wil lreceive $15 instead of $1.5. A third party will be able to tell that this modification has happened because the signature for the last transaction differs from what they have."
   ]
  },
  {
   "cell_type": "code",
   "execution_count": 5,
   "metadata": {},
   "outputs": [
    {
     "name": "stdout",
     "output_type": "stream",
     "text": [
      "\t2017-12-12\tTim pays Joel $3\t0\n",
      "\t\t\t\tnew:  \n",
      "\t\t\t\told:  \n",
      "\t2017-12-13\tJoel pays Kevin $15.\t0\n",
      "\t\t\t\tnew:  1cc65c2f\n",
      "\t\t\t\told:  1cc65c2f\n",
      "\t2017-12-13\tTim pays Joel $3\t0\n",
      "\t\t\t\tnew:  39750475\n",
      "\t\t\t\told:  43687595\n"
     ]
    }
   ],
   "source": [
    "transactions[1]['content'] = 'Joel pays Kevin $15.'\n",
    "\n",
    "new_signed_transactions = sign_transactions(transactions)\n",
    "\n",
    "for new_transaction, old_transaction in zip(new_signed_transactions, signed_transactions):\n",
    "    print('\\t{date}\\t{content}\\t{nonce}'.format(**new_transaction))\n",
    "    print('\\t\\t\\t\\tnew: ', new_transaction['last_signature'])\n",
    "    print('\\t\\t\\t\\told: ', old_transaction['last_signature'])"
   ]
  },
  {
   "cell_type": "markdown",
   "metadata": {},
   "source": [
    "Note how the value of the hash function for the second transation is completely different from its old value even though we just swapped a `5` and `.`. Because the hash value of the previous transaction feeds into the current transaction's hash value we can tell by looking just at the last transaction that something has gone wrong or was manipulated along the way. We do not have to go through every single transaction to be able to tell.\n",
    "\n",
    "The problem with using a simple hash function like this is that it is not very expensive to  create a fake blockchain where you recompute all the hashes yourself."
   ]
  },
  {
   "cell_type": "code",
   "execution_count": null,
   "metadata": {},
   "outputs": [],
   "source": []
  }
 ],
 "metadata": {
  "kernelspec": {
   "display_name": "Python 3",
   "language": "python",
   "name": "python3"
  },
  "language_info": {
   "codemirror_mode": {
    "name": "ipython",
    "version": 3
   },
   "file_extension": ".py",
   "mimetype": "text/x-python",
   "name": "python",
   "nbconvert_exporter": "python",
   "pygments_lexer": "ipython3",
   "version": "3.5.3"
  }
 },
 "nbformat": 4,
 "nbformat_minor": 2
}
