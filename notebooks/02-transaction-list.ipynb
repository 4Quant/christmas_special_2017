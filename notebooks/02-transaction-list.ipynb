{
 "cells": [
  {
   "cell_type": "markdown",
   "metadata": {},
   "source": [
    "# A signed list of transactions\n",
    "\n",
    "Following the slides we can do the same task with a list of transactions\n",
    "\n",
    "```\n",
    "Tim pays Joel $3\n",
    "Joel pays Kevin $1.5\n",
    "Tim pays Joel $3\n",
    "```\n"
   ]
  },
  {
   "cell_type": "code",
   "execution_count": 1,
   "metadata": {
    "collapsed": true
   },
   "outputs": [],
   "source": [
    "from hashlib import sha256\n",
    "\n",
    "def simple_hash_func(value):\n",
    "    return sha256('{}'.format(value).encode()).hexdigest()[-8:]"
   ]
  },
  {
   "cell_type": "code",
   "execution_count": 2,
   "metadata": {
    "collapsed": true
   },
   "outputs": [],
   "source": [
    "transactions = [\n",
    "    ['2017-12-12', 'Tim pays Joel $3'],\n",
    "    ['2017-12-13', 'Joel pays Kevin $1.5'],\n",
    "    ['2017-12-13', 'Tim pays Joel $3']\n",
    "]"
   ]
  },
  {
   "cell_type": "markdown",
   "metadata": {},
   "source": [
    "We will link this set of transaction to each other by computing a hash for each one that includes the has of the previous transaction. This way the third transaction is linked to the second, which is linked to the first."
   ]
  },
  {
   "cell_type": "code",
   "execution_count": 3,
   "metadata": {},
   "outputs": [
    {
     "name": "stdout",
     "output_type": "stream",
     "text": [
      "2017-12-12\tTim pays Joel $3\t5bb3d468\n",
      "2017-12-13\tJoel pays Kevin $1.5\t33417c49\n",
      "2017-12-13\tTim pays Joel $3\t697bb016\n"
     ]
    }
   ],
   "source": [
    "def sign_transactions(transactions):\n",
    "    signed = []\n",
    "    last_signature = ''\n",
    "\n",
    "    for date, content in transactions:\n",
    "        last_signature = simple_hash_func(date + content + last_signature)\n",
    "        signed.append([date, content, last_signature])\n",
    "        \n",
    "    return signed\n",
    "\n",
    "signed_transactions = sign_transactions(transactions)\n",
    "\n",
    "for date, content, signature in signed_transactions:\n",
    "    print('\\t'.join([date, content, signature]))"
   ]
  },
  {
   "cell_type": "markdown",
   "metadata": {},
   "source": [
    "We can now try and manipulate an earlier transaction in our chain and see what happens.\n",
    "\n",
    "We make a fairly simple modification, swapping a `5` and a `.` in the second transaction. As a result Kevin wil lreceive $15 instead of $1.5. A third party will be able to tell that this modification has happened because the signature for the last transaction differs from what they have."
   ]
  },
  {
   "cell_type": "code",
   "execution_count": 4,
   "metadata": {},
   "outputs": [
    {
     "name": "stdout",
     "output_type": "stream",
     "text": [
      "2017-12-12\tTim pays Joel $3\n",
      "\t\t\tnew:  5bb3d468\n",
      "\t\t\told:  5bb3d468\n",
      "2017-12-13\tJoel pays Kevin $15.\n",
      "\t\t\tnew:  e4169389\n",
      "\t\t\told:  33417c49\n",
      "2017-12-13\tTim pays Joel $3\n",
      "\t\t\tnew:  ed1d0cbb\n",
      "\t\t\told:  697bb016\n"
     ]
    }
   ],
   "source": [
    "transactions[1][1] = 'Joel pays Kevin $15.'\n",
    "\n",
    "new_signed_transactions = sign_transactions(transactions)\n",
    "\n",
    "for (date, content, new_signature), (_, _, old_signature) in zip(new_signed_transactions, signed_transactions):\n",
    "    print('\\t'.join([date, content]))\n",
    "    print('\\t\\t\\tnew: ', new_signature)\n",
    "    print('\\t\\t\\told: ', old_signature)"
   ]
  },
  {
   "cell_type": "markdown",
   "metadata": {},
   "source": [
    "Note how the value of the hash function for the second transation is completely different from its old value even though we just swapped a `5` and `.`. Because the hash value of the previous transaction feeds into the current transaction's hash value we can tell by looking just at the last transaction that something has gone wrong or was manipulated along the way. We do not have to go through every single transaction to be able to tell.\n",
    "\n",
    "The problem with using a simple hash function like this is that it is not very expensive to  create a fake blockchain where you recompute all the hashes yourself."
   ]
  },
  {
   "cell_type": "code",
   "execution_count": null,
   "metadata": {
    "collapsed": true
   },
   "outputs": [],
   "source": []
  }
 ],
 "metadata": {
  "kernelspec": {
   "display_name": "Python 3",
   "language": "python",
   "name": "python3"
  },
  "language_info": {
   "codemirror_mode": {
    "name": "ipython",
    "version": 3
   },
   "file_extension": ".py",
   "mimetype": "text/x-python",
   "name": "python",
   "nbconvert_exporter": "python",
   "pygments_lexer": "ipython3",
   "version": "3.6.2"
  }
 },
 "nbformat": 4,
 "nbformat_minor": 2
}
