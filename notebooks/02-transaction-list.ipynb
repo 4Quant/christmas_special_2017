{
 "cells": [
  {
   "cell_type": "markdown",
   "metadata": {},
   "source": [
    "# A signed list of transactions\n",
    "\n",
    "Following the slides we can do the same task with a list of transactions\n",
    "\n",
    "```\n",
    "Tim pays Joel $3\n",
    "Joel pays Kevin $1.5\n",
    "Tim pays Joel $3\n",
    "```\n"
   ]
  },
  {
   "cell_type": "code",
   "execution_count": 4,
   "metadata": {
    "collapsed": true
   },
   "outputs": [],
   "source": [
    "from hashlib import sha256\n",
    "\n",
    "def simple_hash_func(value):\n",
    "    return sha256('{}'.format(value).encode()).hexdigest()"
   ]
  },
  {
   "cell_type": "code",
   "execution_count": 5,
   "metadata": {
    "collapsed": true
   },
   "outputs": [],
   "source": [
    "transactions = [\n",
    "    ['2017-12-12', 'Tim pays Joel $3'],\n",
    "    ['2017-12-13', 'Joel pays Kevin $1.5'],\n",
    "    ['2017-12-13', 'Tim pays Joel $3']\n",
    "]"
   ]
  },
  {
   "cell_type": "markdown",
   "metadata": {},
   "source": [
    "XXX What are we about to do?"
   ]
  },
  {
   "cell_type": "code",
   "execution_count": 6,
   "metadata": {},
   "outputs": [
    {
     "name": "stdout",
     "output_type": "stream",
     "text": [
      "2017-12-12\tTim pays Joel $3\t86a8e539d9c49f55a4a720b54ec49acf68151b700c094b5c10533fb25bb3d468\n",
      "2017-12-13\tJoel pays Kevin $1.5\tbfd5532aa059e0e5bd4fff4317dbcdc10f56e7640c042419d88a3d72e362a80e\n",
      "2017-12-13\tTim pays Joel $3\t1f7ac5218abae85d4b6473d51d779e05943093f381de82aaf08d03576371c102\n"
     ]
    }
   ],
   "source": [
    "def sign_transactions(transactions):\n",
    "    signed = []\n",
    "    last_signature = ''\n",
    "\n",
    "    for date, content in transactions:\n",
    "        last_signature = simple_hash_func(date + content + last_signature)\n",
    "        signed.append([date, content, last_signature])\n",
    "        \n",
    "    return signed\n",
    "\n",
    "signed_transactions = sign_transactions(transactions)\n",
    "\n",
    "for date, content, signature in signed_transactions:\n",
    "    print('\\t'.join([date, content, signature]))"
   ]
  },
  {
   "cell_type": "markdown",
   "metadata": {},
   "source": [
    "We can check to see if it is really signed by trying to change the amount Joel pays Kevin to $15"
   ]
  },
  {
   "cell_type": "code",
   "execution_count": 7,
   "metadata": {},
   "outputs": [
    {
     "name": "stdout",
     "output_type": "stream",
     "text": [
      "2017-12-12\tTim pays Joel $3\n",
      "\t\t\tnew:  86a8e539d9c49f55a4a720b54ec49acf68151b700c094b5c10533fb25bb3d468\n",
      "\t\t\told:  86a8e539d9c49f55a4a720b54ec49acf68151b700c094b5c10533fb25bb3d468\n",
      "2017-12-13\tJoel pays Kevin $15.\n",
      "\t\t\tnew:  f1958109de059750f476b10a13ff76870ce2716b0cc679cbb1ae85aa7c5336f2\n",
      "\t\t\told:  bfd5532aa059e0e5bd4fff4317dbcdc10f56e7640c042419d88a3d72e362a80e\n",
      "2017-12-13\tTim pays Joel $3\n",
      "\t\t\tnew:  23a72bd06159bcf237d1324bdcfe4f5373185a083b47398553ffcd891c25fc1e\n",
      "\t\t\told:  1f7ac5218abae85d4b6473d51d779e05943093f381de82aaf08d03576371c102\n"
     ]
    }
   ],
   "source": [
    "transactions[1][1] = 'Joel pays Kevin $15.'\n",
    "\n",
    "new_signed_transactions = sign_transactions(transactions)\n",
    "\n",
    "for (date, content, new_signature), (_, _, old_signature) in zip(new_signed_transactions, signed_transactions):\n",
    "    print('\\t'.join([date, content]))\n",
    "    print('\\t\\t\\tnew: ', new_signature)\n",
    "    print('\\t\\t\\told: ', old_signature)"
   ]
  },
  {
   "cell_type": "markdown",
   "metadata": {},
   "source": [
    "The problem with using a simple hash function like this is that it is not very expensive to  create a fake blockchain where you recompute all the hashes yourself."
   ]
  }
 ],
 "metadata": {
  "kernelspec": {
   "display_name": "Python 3",
   "language": "python",
   "name": "python3"
  },
  "language_info": {
   "codemirror_mode": {
    "name": "ipython",
    "version": 3
   },
   "file_extension": ".py",
   "mimetype": "text/x-python",
   "name": "python",
   "nbconvert_exporter": "python",
   "pygments_lexer": "ipython3",
   "version": "3.6.2"
  }
 },
 "nbformat": 4,
 "nbformat_minor": 2
}
